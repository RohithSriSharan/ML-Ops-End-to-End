{
 "cells": [
  {
   "cell_type": "code",
   "execution_count": 30,
   "id": "f72d6e2b",
   "metadata": {},
   "outputs": [],
   "source": [
    "import pandas as pd\n",
    "import numpy as np\n",
    "import matplotlib.pyplot as plt\n",
    "import seaborn as sns\n",
    "import os"
   ]
  },
  {
   "cell_type": "code",
   "execution_count": 31,
   "id": "58b7671f",
   "metadata": {},
   "outputs": [
    {
     "data": {
      "text/html": [
       "<div>\n",
       "<style scoped>\n",
       "    .dataframe tbody tr th:only-of-type {\n",
       "        vertical-align: middle;\n",
       "    }\n",
       "\n",
       "    .dataframe tbody tr th {\n",
       "        vertical-align: top;\n",
       "    }\n",
       "\n",
       "    .dataframe thead th {\n",
       "        text-align: right;\n",
       "    }\n",
       "</style>\n",
       "<table border=\"1\" class=\"dataframe\">\n",
       "  <thead>\n",
       "    <tr style=\"text-align: right;\">\n",
       "      <th></th>\n",
       "      <th>review</th>\n",
       "      <th>sentiment</th>\n",
       "    </tr>\n",
       "  </thead>\n",
       "  <tbody>\n",
       "    <tr>\n",
       "      <th>0</th>\n",
       "      <td>One of the other reviewers has mentioned that ...</td>\n",
       "      <td>positive</td>\n",
       "    </tr>\n",
       "    <tr>\n",
       "      <th>1</th>\n",
       "      <td>A wonderful little production. &lt;br /&gt;&lt;br /&gt;The...</td>\n",
       "      <td>positive</td>\n",
       "    </tr>\n",
       "    <tr>\n",
       "      <th>2</th>\n",
       "      <td>I thought this was a wonderful way to spend ti...</td>\n",
       "      <td>positive</td>\n",
       "    </tr>\n",
       "    <tr>\n",
       "      <th>3</th>\n",
       "      <td>Basically there's a family where a little boy ...</td>\n",
       "      <td>negative</td>\n",
       "    </tr>\n",
       "    <tr>\n",
       "      <th>4</th>\n",
       "      <td>Petter Mattei's \"Love in the Time of Money\" is...</td>\n",
       "      <td>positive</td>\n",
       "    </tr>\n",
       "  </tbody>\n",
       "</table>\n",
       "</div>"
      ],
      "text/plain": [
       "                                              review sentiment\n",
       "0  One of the other reviewers has mentioned that ...  positive\n",
       "1  A wonderful little production. <br /><br />The...  positive\n",
       "2  I thought this was a wonderful way to spend ti...  positive\n",
       "3  Basically there's a family where a little boy ...  negative\n",
       "4  Petter Mattei's \"Love in the Time of Money\" is...  positive"
      ]
     },
     "execution_count": 31,
     "metadata": {},
     "output_type": "execute_result"
    }
   ],
   "source": [
    "data_path = os.path.join('../data/raw/IMDB DataSet.csv')\n",
    "df = pd.read_csv(data_path)\n",
    "df.head()"
   ]
  },
  {
   "cell_type": "code",
   "execution_count": 32,
   "id": "84d9c312",
   "metadata": {},
   "outputs": [
    {
     "data": {
      "text/plain": [
       "review       0\n",
       "sentiment    0\n",
       "dtype: int64"
      ]
     },
     "execution_count": 32,
     "metadata": {},
     "output_type": "execute_result"
    }
   ],
   "source": [
    "df.isna().sum()"
   ]
  },
  {
   "cell_type": "code",
   "execution_count": 33,
   "id": "5e504f21",
   "metadata": {},
   "outputs": [
    {
     "name": "stdout",
     "output_type": "stream",
     "text": [
      "Before dropping duplicates:  418\n",
      "After dropping duplicates 0\n"
     ]
    }
   ],
   "source": [
    "print(\"Before dropping duplicates: \",df.duplicated().sum())\n",
    "df.drop_duplicates(inplace=True)\n",
    "print(\"After dropping duplicates\",df.duplicated().sum())\n"
   ]
  },
  {
   "cell_type": "code",
   "execution_count": 34,
   "id": "dcca29c1",
   "metadata": {},
   "outputs": [],
   "source": [
    "import re\n",
    "import contractions\n",
    "\n",
    "def clean_text(text: str) -> str:\n",
    "    \"\"\"\n",
    "    Clean review text for sentiment analysis.\n",
    "    - Replace contractions (can't → can not)\n",
    "    - Lowercase\n",
    "    - Remove HTML tags\n",
    "    - Remove punctuation, digits, and special characters\n",
    "    - Collapse multiple spaces\n",
    "    \"\"\"\n",
    "\n",
    "    text = contractions.fix(text)                   #fix contractions first                \n",
    "\n",
    "        \n",
    "    text = text.lower()                              # lowercase\n",
    "    text = re.sub(r\"<.*?>\", \" \", text)               # remove HTML tags\n",
    "    text = re.sub(r\"can't\", \"can not\", text)         # handle contractions\n",
    "    text = re.sub(r\"n't\", \" not\", text)              # isn't → is not\n",
    "    text = re.sub(r\"[^a-z\\s]\", \" \", text)            # keep only letters + spaces\n",
    "    text = re.sub(r\"\\s+\", \" \", text).strip()         # collapse spaces\n",
    "\n",
    "\n",
    "    return text\n",
    "\n"
   ]
  },
  {
   "cell_type": "code",
   "execution_count": 35,
   "id": "bd4ae368",
   "metadata": {},
   "outputs": [
    {
     "data": {
      "text/html": [
       "<div>\n",
       "<style scoped>\n",
       "    .dataframe tbody tr th:only-of-type {\n",
       "        vertical-align: middle;\n",
       "    }\n",
       "\n",
       "    .dataframe tbody tr th {\n",
       "        vertical-align: top;\n",
       "    }\n",
       "\n",
       "    .dataframe thead th {\n",
       "        text-align: right;\n",
       "    }\n",
       "</style>\n",
       "<table border=\"1\" class=\"dataframe\">\n",
       "  <thead>\n",
       "    <tr style=\"text-align: right;\">\n",
       "      <th></th>\n",
       "      <th>review</th>\n",
       "      <th>sentiment</th>\n",
       "      <th>clean</th>\n",
       "    </tr>\n",
       "  </thead>\n",
       "  <tbody>\n",
       "    <tr>\n",
       "      <th>0</th>\n",
       "      <td>One of the other reviewers has mentioned that ...</td>\n",
       "      <td>positive</td>\n",
       "      <td>one of the other reviewers has mentioned that ...</td>\n",
       "    </tr>\n",
       "    <tr>\n",
       "      <th>1</th>\n",
       "      <td>A wonderful little production. &lt;br /&gt;&lt;br /&gt;The...</td>\n",
       "      <td>positive</td>\n",
       "      <td>a wonderful little production the filming tech...</td>\n",
       "    </tr>\n",
       "    <tr>\n",
       "      <th>2</th>\n",
       "      <td>I thought this was a wonderful way to spend ti...</td>\n",
       "      <td>positive</td>\n",
       "      <td>i thought this was a wonderful way to spend ti...</td>\n",
       "    </tr>\n",
       "    <tr>\n",
       "      <th>3</th>\n",
       "      <td>Basically there's a family where a little boy ...</td>\n",
       "      <td>negative</td>\n",
       "      <td>basically there is a family where a little boy...</td>\n",
       "    </tr>\n",
       "    <tr>\n",
       "      <th>4</th>\n",
       "      <td>Petter Mattei's \"Love in the Time of Money\" is...</td>\n",
       "      <td>positive</td>\n",
       "      <td>petter mattei s love in the time of money is a...</td>\n",
       "    </tr>\n",
       "  </tbody>\n",
       "</table>\n",
       "</div>"
      ],
      "text/plain": [
       "                                              review sentiment  \\\n",
       "0  One of the other reviewers has mentioned that ...  positive   \n",
       "1  A wonderful little production. <br /><br />The...  positive   \n",
       "2  I thought this was a wonderful way to spend ti...  positive   \n",
       "3  Basically there's a family where a little boy ...  negative   \n",
       "4  Petter Mattei's \"Love in the Time of Money\" is...  positive   \n",
       "\n",
       "                                               clean  \n",
       "0  one of the other reviewers has mentioned that ...  \n",
       "1  a wonderful little production the filming tech...  \n",
       "2  i thought this was a wonderful way to spend ti...  \n",
       "3  basically there is a family where a little boy...  \n",
       "4  petter mattei s love in the time of money is a...  "
      ]
     },
     "execution_count": 35,
     "metadata": {},
     "output_type": "execute_result"
    }
   ],
   "source": [
    "df[\"clean\"] = df[\"review\"].astype(str).apply(clean_text)\n",
    "\n",
    "df.head()"
   ]
  },
  {
   "cell_type": "code",
   "execution_count": null,
   "id": "e2151578",
   "metadata": {},
   "outputs": [],
   "source": []
  },
  {
   "cell_type": "code",
   "execution_count": 40,
   "id": "424238d6",
   "metadata": {},
   "outputs": [],
   "source": [
    "from sklearn.model_selection import train_test_split\n",
    "\n",
    "X = df[\"clean\"]\n",
    "y = df[\"sentiment\"].map({\"positive\":1,\n",
    "                         \"negative\": 0 })\n",
    "\n",
    "X_train , X_test, y_train ,y_test = train_test_split( \n",
    "    X,  y ,\n",
    "    test_size=0.2,      # 20% test data\n",
    "    random_state=42,    # reproductibility\n",
    "    stratify=y          # Keeps positives and negative balanced\n",
    " )"
   ]
  },
  {
   "cell_type": "code",
   "execution_count": null,
   "id": "c713dbe5",
   "metadata": {},
   "outputs": [],
   "source": [
    "from sklearn.feature_extraction.text import TfidfVectorizer\n",
    "\n",
    "tfidf = TfidfVectorizer(\n",
    "    stop_words='english',\n",
    "    ngram_range=(1,2),\n",
    "    max_df = 0.95,\n",
    "    min_df=5\n",
    ")\n",
    "\n",
    "X_train_vec = tfidf.fit_transform(X_train)\n",
    "X_test_vec = tfidf.transform(X_test)"
   ]
  },
  {
   "cell_type": "code",
   "execution_count": 43,
   "id": "3adc9ac1",
   "metadata": {},
   "outputs": [
    {
     "name": "stdout",
     "output_type": "stream",
     "text": [
      "<Compressed Sparse Row sparse matrix of dtype 'float64'\n",
      "\twith 4539969 stored elements and shape (39665, 119066)>\n",
      "  Coords\tValues\n",
      "  (0, 52832)\t0.4588512690402721\n",
      "  (0, 116285)\t0.3269117278016237\n",
      "  (0, 116884)\t0.0474934701684599\n",
      "  (0, 1850)\t0.14896397885168416\n",
      "  (0, 13065)\t0.06387157230821774\n",
      "  (0, 66385)\t0.09826143048800716\n",
      "  (0, 32663)\t0.11913774762232543\n",
      "  (0, 118355)\t0.09368059471009366\n",
      "  (0, 92816)\t0.12086370560111727\n",
      "  (0, 77270)\t0.03821717336153929\n",
      "  (0, 24592)\t0.14369700271636424\n",
      "  (0, 84644)\t0.10189140174199611\n",
      "  (0, 9830)\t0.41337114124665325\n",
      "  (0, 5221)\t0.1135338973715151\n",
      "  (0, 74110)\t0.0885421459232696\n",
      "  (0, 18951)\t0.15083229774629042\n",
      "  (0, 10636)\t0.08375574855793659\n",
      "  (0, 76935)\t0.11014610451355632\n",
      "  (0, 93888)\t0.06834988469437019\n",
      "  (0, 50043)\t0.0868747851925366\n",
      "  (0, 50870)\t0.11968478034225341\n",
      "  (0, 46756)\t0.06639670763961718\n",
      "  (0, 107317)\t0.06744625545620994\n",
      "  (0, 86393)\t0.22185532091845495\n",
      "  (0, 34854)\t0.08850312406639448\n",
      "  :\t:\n",
      "  (39664, 70800)\t0.0822219515510303\n",
      "  (39664, 105295)\t0.09308602842904323\n",
      "  (39664, 32521)\t0.09954395447707497\n",
      "  (39664, 236)\t0.10175149042883387\n",
      "  (39664, 88210)\t0.10350416942096587\n",
      "  (39664, 62862)\t0.10677508801415185\n",
      "  (39664, 85535)\t0.1113851888441973\n",
      "  (39664, 60347)\t0.10259409122753864\n",
      "  (39664, 79625)\t0.10259409122753864\n",
      "  (39664, 81977)\t0.10963250985206528\n",
      "  (39664, 105002)\t0.09954395447707497\n",
      "  (39664, 86745)\t0.10449348074088413\n",
      "  (39664, 108823)\t0.09889406859092041\n",
      "  (39664, 105021)\t0.08873144189442128\n",
      "  (39664, 90604)\t0.09200236048760724\n",
      "  (39664, 109201)\t0.10023325082777991\n",
      "  (39664, 114099)\t0.10963250985206528\n",
      "  (39664, 62771)\t0.1113851888441973\n",
      "  (39664, 75692)\t0.10963250985206528\n",
      "  (39664, 58670)\t0.1113851888441973\n",
      "  (39664, 1946)\t0.10259409122753864\n",
      "  (39664, 1947)\t0.10350416942096587\n",
      "  (39664, 76740)\t0.10175149042883387\n",
      "  (39664, 27619)\t0.10963250985206528\n",
      "  (39664, 90423)\t0.1113851888441973\n"
     ]
    }
   ],
   "source": [
    "print(X_train_vec)"
   ]
  },
  {
   "cell_type": "code",
   "execution_count": 44,
   "id": "a001db07",
   "metadata": {},
   "outputs": [
    {
     "name": "stdout",
     "output_type": "stream",
     "text": [
      "Accuracy: 0.8982555208228294\n",
      "              precision    recall  f1-score   support\n",
      "\n",
      "           0       0.91      0.88      0.90      4940\n",
      "           1       0.89      0.91      0.90      4977\n",
      "\n",
      "    accuracy                           0.90      9917\n",
      "   macro avg       0.90      0.90      0.90      9917\n",
      "weighted avg       0.90      0.90      0.90      9917\n",
      "\n"
     ]
    }
   ],
   "source": [
    "from sklearn.linear_model import LogisticRegression\n",
    "from sklearn.metrics import accuracy_score, classification_report\n",
    "\n",
    "# Train\n",
    "clf = LogisticRegression(max_iter=1000)\n",
    "clf.fit(X_train_vec, y_train)\n",
    "\n",
    "# Predict\n",
    "y_pred = clf.predict(X_test_vec)\n",
    "\n",
    "# Evaluate\n",
    "print(\"Accuracy:\", accuracy_score(y_test, y_pred))\n",
    "print(classification_report(y_test, y_pred))\n"
   ]
  },
  {
   "cell_type": "code",
   "execution_count": 45,
   "id": "7f872313",
   "metadata": {},
   "outputs": [
    {
     "name": "stdout",
     "output_type": "stream",
     "text": [
      "Accuracy: 0.8809115659977816\n"
     ]
    }
   ],
   "source": [
    "from sklearn.naive_bayes import MultinomialNB\n",
    "nb = MultinomialNB()\n",
    "nb.fit(X_train_vec, y_train)\n",
    "print(\"Accuracy:\", nb.score(X_test_vec, y_test))\n"
   ]
  },
  {
   "cell_type": "code",
   "execution_count": 46,
   "id": "aa8b4cbb",
   "metadata": {},
   "outputs": [
    {
     "name": "stdout",
     "output_type": "stream",
     "text": [
      "Accuracy: 0.903599878995664\n"
     ]
    }
   ],
   "source": [
    "from sklearn.svm import LinearSVC\n",
    "svm = LinearSVC()\n",
    "svm.fit(X_train_vec, y_train)\n",
    "print(\"Accuracy:\", svm.score(X_test_vec, y_test))\n"
   ]
  },
  {
   "cell_type": "code",
   "execution_count": 61,
   "id": "1f61d488",
   "metadata": {},
   "outputs": [
    {
     "name": "stdout",
     "output_type": "stream",
     "text": [
      "Positive Review\n"
     ]
    },
    {
     "data": {
      "text/plain": [
       "array([1])"
      ]
     },
     "execution_count": 61,
     "metadata": {},
     "output_type": "execute_result"
    }
   ],
   "source": [
    "def sample_test(sampleText):\n",
    "\n",
    "    sampleText_vec = tfidf.transform([sampleText])\n",
    "    sample_prediction = clf.predict(sampleText_vec)\n",
    "    if sample_prediction == 1:\n",
    "        print(\"Positive Review\")\n",
    "    else:\n",
    "        print(\"Neagtive Review\")\n",
    "    return sample_prediction\n",
    "\n",
    "sample_test(\"do not watch \")\n"
   ]
  },
  {
   "cell_type": "code",
   "execution_count": null,
   "id": "9e08acdc",
   "metadata": {},
   "outputs": [],
   "source": []
  }
 ],
 "metadata": {
  "kernelspec": {
   "display_name": "mlops_e2e",
   "language": "python",
   "name": "python3"
  },
  "language_info": {
   "codemirror_mode": {
    "name": "ipython",
    "version": 3
   },
   "file_extension": ".py",
   "mimetype": "text/x-python",
   "name": "python",
   "nbconvert_exporter": "python",
   "pygments_lexer": "ipython3",
   "version": "3.11.13"
  }
 },
 "nbformat": 4,
 "nbformat_minor": 5
}
